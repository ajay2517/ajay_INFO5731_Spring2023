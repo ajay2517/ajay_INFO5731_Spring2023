{
  "cells": [
    {
      "cell_type": "markdown",
      "metadata": {
        "id": "view-in-github",
        "colab_type": "text"
      },
      "source": [
        "<a href=\"https://colab.research.google.com/github/ajay2517/ajay_INFO5731_Spring2023/blob/main/INFO5731_Assignment_One_SPRING2023.ipynb\" target=\"_parent\"><img src=\"https://colab.research.google.com/assets/colab-badge.svg\" alt=\"Open In Colab\"/></a>"
      ]
    },
    {
      "cell_type": "markdown",
      "metadata": {
        "id": "Ryk8D1Q4Wsrp"
      },
      "source": [
        "# **INFO5731 Assignment One**"
      ]
    },
    {
      "cell_type": "markdown",
      "metadata": {
        "id": "90_NR8c5XGWc"
      },
      "source": [
        "# Question 1\n",
        "\n",
        "(20 points). Write a Python program to generate 12 random numbers between 1 and 100. Sort the list of numbers in ascending order and print it out. Sort the list of numbers in descending order and print it out. Calculate the average for the group and print it out."
      ]
    },
    {
      "cell_type": "code",
      "execution_count": null,
      "metadata": {
        "colab": {
          "base_uri": "https://localhost:8080/"
        },
        "id": "5QX6bJjGWXY9",
        "outputId": "27577052-2fd1-475f-8d50-81c7d3c3935f"
      },
      "outputs": [
        {
          "name": "stdout",
          "output_type": "stream",
          "text": [
            "asc order:  [1, 2, 4, 4, 6, 6, 7, 7, 8, 12, 13, 13, 16, 17, 17, 19, 19, 23, 24, 24, 25, 25, 29, 30, 33, 33, 34, 36, 38, 38, 42, 44, 44, 45, 45, 46, 48, 48, 49, 49, 50, 51, 51, 54, 54, 56, 59, 59, 59, 59, 60, 60, 60, 63, 65, 65, 67, 67, 67, 67, 68, 69, 70, 71, 71, 72, 74, 74, 74, 75, 77, 77, 77, 79, 79, 80, 83, 84, 84, 85, 87, 91, 92, 92, 92, 93, 93, 94, 94, 95, 96, 96, 97, 97, 97, 98, 98, 99, 99, 100]\n",
            "desc order:  [100, 99, 99, 98, 98, 97, 97, 97, 96, 96, 95, 94, 94, 93, 93, 92, 92, 92, 91, 87, 85, 84, 84, 83, 80, 79, 79, 77, 77, 77, 75, 74, 74, 74, 72, 71, 71, 70, 69, 68, 67, 67, 67, 67, 65, 65, 63, 60, 60, 60, 59, 59, 59, 59, 56, 54, 54, 51, 51, 50, 49, 49, 48, 48, 46, 45, 45, 44, 44, 42, 38, 38, 36, 34, 33, 33, 30, 29, 25, 25, 24, 24, 23, 19, 19, 17, 17, 16, 13, 13, 12, 8, 7, 7, 6, 6, 4, 4, 2, 1]\n"
          ]
        }
      ],
      "source": [
        "# Your code here\n",
        "from random import randint\n",
        "\n",
        "rand_nums = [randint(1, 100) for i in range(100)]\n",
        "\n",
        "print(\"asc order: \", sorted(rand_nums))\n",
        "\n",
        "print(\"desc order: \", sorted(rand_nums, reverse=True))\n",
        "\n"
      ]
    },
    {
      "cell_type": "markdown",
      "metadata": {
        "id": "1F_PZdH9Sh49"
      },
      "source": [
        "# Question 2\n",
        "(25 points). Write a program that will do the following string formatting tasks:\n",
        "\n",
        "(1) Ask the user to enter two sentences.\n",
        "\n",
        "(2) Make each sentence into a list. Each element in the list should correspond to a word in the sentence. For example, if the sentence is \"Alas! Am I alive? This is my first python program\", the program should print out ['Alas, '!', 'Am', 'I', 'alive, '?', 'This', 'is', 'my', 'first', 'python', 'program'].\n",
        "\n",
        "(3) Compare the two sentences. Print out a list of words that occur in both sentences.\n",
        "\n",
        "(4) Remove any punctuation from the sentence and print it back out. It should remove at least the following characters, but it can remove more: period(“.”), comma (“,”), semicolon (“;”), and colon (“:”)\n",
        "\n",
        "(5) Count the number of vowels in the sentences. Print out each vowel and the number of times it appears in the sentences, such as: a:2, e:1, i:0, etc"
      ]
    },
    {
      "cell_type": "code",
      "execution_count": null,
      "metadata": {
        "id": "Y0oOSlsOS0cq",
        "outputId": "23a59f19-b4ac-4616-cb73-9c9561e46b18"
      },
      "outputs": [
        {
          "name": "stdout",
          "output_type": "stream",
          "text": [
            "Enter sentence 1: Hello, This is my notebook\n",
            "Enter sentence 2: Actually, this is not a python.\n",
            "words list of string1:  ['Hello', ',', 'This', 'is', 'my']\n",
            "words list of string2:  ['Actually', ',', 'this', 'is', 'not', 'a', 'python', '.']\n",
            "\n",
            "Common words:  [',', 'is']\n",
            "\n",
            "string 1 without punctuation:  ['Hello', 'This', 'is', 'my']\n",
            "string 2 without punctuation:  ['Actually', 'this', 'is', 'not', 'a', 'python']\n",
            "\n",
            "Vowels count:  {'a': 0, 'e': 2, 'i': 2, 'o': 4, 'u': 0}\n",
            "Vowels count:  {'a': 3, 'e': 0, 'i': 2, 'o': 2, 'u': 1}\n"
          ]
        }
      ],
      "source": [
        "# Your code here\n",
        "import string\n",
        "\n",
        "string1 = input(\"Enter sentence 1: \") # Hello, This is my notebook.\n",
        "string2 = input(\"Enter sentence 2: \") # Actually, this is not a python.\n",
        "\n",
        "\n",
        "def sentence_to_words_list(mystring):\n",
        "    words_list = [] \n",
        "    word = '' \n",
        "\n",
        "    for char in mystring:\n",
        "        if char not in string.whitespace:\n",
        "            if char not in string.ascii_letters + \"'\":\n",
        "                if word: \n",
        "                        words_list.append(word)\n",
        "                words_list.append(char)\n",
        "                word = ''\n",
        "            else:\n",
        "                word = ''.join([word,char])\n",
        "\n",
        "        else:\n",
        "            if word:\n",
        "                words_list.append(word)\n",
        "                word = ''\n",
        "    return words_list\n",
        "\n",
        "def compare_lists(mylist1, mylist2):\n",
        "    lst = []\n",
        "    for word in mylist1:\n",
        "        if word in mylist2:\n",
        "            lst.append(word)      \n",
        "    return lst\n",
        "\n",
        "def remove_punc_symbols(mylist):\n",
        "    lst = []\n",
        "    for word in mylist:\n",
        "        if word.strip(string.punctuation):\n",
        "            lst.append(word.strip(string.punctuation))\n",
        "    return lst\n",
        "\n",
        "def vowel_counting(string):    \n",
        "    mydic = {'a': 0, 'e': 0, 'i':0, 'o':0, 'u': 0}\n",
        "    for ch in string.lower():\n",
        "        if ch in ['a', 'e', 'i', 'o', 'u']:\n",
        "            if ch in mydic.keys():\n",
        "                mydic[ch] += 1\n",
        "            else:\n",
        "                mydic[ch] = 1\n",
        "    return mydic\n",
        "\n",
        "\n",
        "mylist1 = sentence_to_words_list(string1)\n",
        "mylist2 = sentence_to_words_list(string2)\n",
        "\n",
        "print(\"words list of string1: \", mylist1)\n",
        "print(\"words list of string2: \", mylist2)\n",
        "print()\n",
        "\n",
        "print(\"Common words: \", compare_lists(mylist1, mylist2))\n",
        "print()\n",
        "\n",
        "\n",
        "mylist1 = remove_punc_symbols(mylist1)\n",
        "mylist2 = remove_punc_symbols(mylist2)\n",
        "\n",
        "\n",
        "print(\"string 1 without punctuation: \", mylist1)\n",
        "print(\"string 2 without punctuation: \", mylist2)\n",
        "print()\n",
        "\n",
        "print(\"Vowels count: \", vowel_counting(string1))\n",
        "print(\"Vowels count: \", vowel_counting(string2))\n",
        "            "
      ]
    },
    {
      "cell_type": "markdown",
      "metadata": {
        "id": "CmFoI4jDS9nx"
      },
      "source": [
        "# Question 3 \n",
        "\n",
        "(15 points). The formula that describes the volume V of a sphere with radius r is the following:\n",
        "\n",
        "$ V=\\frac{4}{3}\\ast\\ \\pi\\ast\\ r^3 $\n",
        "\n",
        "Write a program to calculate the value of V when r is in the range of 1–10. Output the result in the following format:\n",
        "\n",
        "\tr\tV\n",
        "\t1\t…\n",
        "\t2\t…\n",
        "\t3\t…\n"
      ]
    },
    {
      "cell_type": "code",
      "execution_count": null,
      "metadata": {
        "id": "pEyqeioAT95b",
        "outputId": "cc190dde-e054-4207-9090-4453a1d90ed4"
      },
      "outputs": [
        {
          "name": "stdout",
          "output_type": "stream",
          "text": [
            "r\tV\n",
            "1\t4.1866666666666665\n",
            "2\t33.49333333333333\n",
            "3\t113.03999999999998\n",
            "4\t267.94666666666666\n",
            "5\t523.3333333333334\n",
            "6\t904.3199999999998\n",
            "7\t1436.0266666666666\n",
            "8\t2143.5733333333333\n",
            "9\t3052.08\n",
            "10\t4186.666666666667\n"
          ]
        }
      ],
      "source": [
        "# Your code here\n",
        "\n",
        "def volume(r):   \n",
        "    return ((4/3) * 3.14 * r*r*r)\n",
        "\n",
        "print(\"r\", \"V\", sep=\"\\t\")\n",
        "\n",
        "for r in range(1, 10+1):\n",
        "    print(r, volume(r), sep='\\t')\n",
        "\n"
      ]
    },
    {
      "cell_type": "markdown",
      "metadata": {
        "id": "z3tBE7E-Xn5X"
      },
      "source": [
        "# Question 4\n",
        "\n",
        "(40 points). In the field of Data Science, data is often formatted as a comma-delimited (CSV) file, where each line in a file corresponds to a field's value. Refer to Chapter 9 (p. 106) for more information on comma-delimited files. To answer this question, you will need to download the file [Assignment1_denton_housing.csv](https://raw.githubusercontent.com/unt-iialab/info5731-spring2022/main/assignments/Assignment1_denton_housing.csv) included with this assignment. The file [Assignment1_denton_housing.csv](https://raw.githubusercontent.com/unt-iialab/info5731-spring2022/main/assignments/Assignment1_denton_housing.csv) contains statistics about housing in the city of Denton from 2008 to 2014. Write a program to implement the following questions.\n",
        "\n",
        "(1) (10 pts) Calculate the difference in the number of Occupied Housing Units from year to year and print it. The difference must be calculated for the consecutive years such as 2008-2009, 2009-2010 etc. Finally, print the values in the ascending order.\n",
        "\n",
        "(2) (10 pts) For all the years, calculate the percentage of housing units which are vacant an occupied. Print the results in the following format:\n",
        "\n",
        "Year Vacant Housing Units Occupied Housing Units\n",
        "\n",
        "    2008  30%   70%                          \n",
        "\t2009 ----- -----\n",
        "\t2010 ----- -----\n",
        "    2011 ----- -----\n",
        "\t2012 ----- -----\n",
        "    2013 ----- -----\n",
        "\t2014 ----- -----\n",
        "  \n",
        "  \n",
        "\n",
        "(3) (10 pts) Calculate and print the valued and years in which the highest number of housing units were vacant and occupied. Print the results in the following format:  \n",
        "\n",
        "                              Year\tValue\n",
        "\tVacant Housing Units\t  -----   -----\n",
        "\tOccupied Housing Units\t-----   -----\n",
        "\n",
        "(4) (10 pts) Calculate the harmonic mean of the total housing units and print it out. You can find the information about harmonic mean here: https://ncalculators.com/statistics/harmonic-mean-calculator.htm"
      ]
    },
    {
      "cell_type": "code",
      "execution_count": null,
      "metadata": {
        "id": "lqGYuHBhcsRH",
        "outputId": "e4fe06a1-0f52-49db-b389-261970e19fd1"
      },
      "outputs": [
        {
          "data": {
            "text/plain": [
              "(42, 3)"
            ]
          },
          "execution_count": 4,
          "metadata": {},
          "output_type": "execute_result"
        }
      ],
      "source": [
        "# Your code here\n",
        "\n",
        "import pandas as pd\n",
        "from google.colab import drive\n",
        "\n",
        "df = pd.read_csv('/Assignment1_denton_housing.csv')\n",
        "df.shape\n"
      ]
    },
    {
      "cell_type": "code",
      "execution_count": null,
      "metadata": {
        "id": "U7LDGjYyNpAv"
      },
      "outputs": [],
      "source": [
        "new_df = df.set_index('year')"
      ]
    },
    {
      "cell_type": "markdown",
      "metadata": {
        "id": "bhRK5VzVNpAw"
      },
      "source": [
        "## 4.1"
      ]
    },
    {
      "cell_type": "code",
      "execution_count": null,
      "metadata": {
        "id": "etoDZlF5NpAw",
        "outputId": "a0f11698-04ad-4115-bde9-1caa7020447d"
      },
      "outputs": [
        {
          "name": "stdout",
          "output_type": "stream",
          "text": [
            "2008  -  2009  =  795\n",
            "2009  -  2010  =  -5091\n",
            "2010  -  2011  =  303\n",
            "2011  -  2012  =  -1404\n",
            "2012  -  2013  =  -1565\n",
            "2013  -  2014  =  -2622\n"
          ]
        }
      ],
      "source": [
        "\n",
        "for year in range(2008, 2014):\n",
        "    difference = new_df[new_df['title_field']=='Occupied Housing Units']['value'][year] - new_df[new_df['title_field']=='Occupied Housing Units']['value'][year+1]\n",
        "    print(year, \" - \", year+1, \" = \", difference)\n"
      ]
    },
    {
      "cell_type": "markdown",
      "metadata": {
        "id": "ZKkbgKW3NpAx"
      },
      "source": [
        "## 4.2"
      ]
    },
    {
      "cell_type": "code",
      "execution_count": null,
      "metadata": {
        "id": "cN7oWlWTNpAx",
        "outputId": "752d8192-639c-49d3-be3b-25b62c9011f5"
      },
      "outputs": [
        {
          "name": "stdout",
          "output_type": "stream",
          "text": [
            "year\tVacant Housing Units\tOccupied Housing Units\n",
            "2008\t10.88265281351653%\t89.11734718648347%\n",
            "2009\t9.07111572444872%\t90.92888427555128%\n",
            "2010\t8.142556337081672%\t91.85744366291833%\n",
            "2011\t9.379522229890688%\t90.6204777701093%\n",
            "2012\t6.677600230491346%\t93.32239976950866%\n",
            "2013\t8.801787504176412%\t91.19821249582358%\n",
            "2014\t5.730110570363885%\t94.26988942963611%\n"
          ]
        }
      ],
      "source": [
        "print('year', 'Vacant Housing Units', 'Occupied Housing Units', sep='\\t')\n",
        "\n",
        "for year in range(2008, 2015):\n",
        "    vacant = ((new_df[new_df['title_field']=='Vacant Housing Units']['value'][year]) / (new_df[new_df['title_field']=='Total Housing Units']['value'][year]))*100\n",
        "    occupied = ((new_df[new_df['title_field']=='Occupied Housing Units']['value'][year]) / (new_df[new_df['title_field']=='Total Housing Units']['value'][year] ))*100\n",
        "\n",
        "    print(year, str(vacant)+'%', str(occupied)+'%', sep='\\t')\n"
      ]
    },
    {
      "cell_type": "markdown",
      "metadata": {
        "id": "W-esKiUQNpAy"
      },
      "source": [
        "## 4.3"
      ]
    },
    {
      "cell_type": "code",
      "execution_count": null,
      "metadata": {
        "id": "HbaHdhVGNpAy",
        "outputId": "467e7c22-4d28-40f3-be3b-200269730042"
      },
      "outputs": [
        {
          "name": "stdout",
          "output_type": "stream",
          "text": [
            "\t\tYear\tValue\n",
            "Vacant Housing Units\t2008\t2008\n",
            "Occupied Housing Units\t2014\t2014\n"
          ]
        }
      ],
      "source": [
        "\n",
        "vacant = df[df['title_field']=='Vacant Housing Units'][ 'value'].max()\n",
        "vacant = df[(df['title_field']=='Vacant Housing Units') & (df['value']==vacant)]['year'].iloc[0]\n",
        "\n",
        "occupied = df[df['title_field']=='Occupied Housing Units'][ 'value'].max()\n",
        "occupied = df[(df['title_field']=='Occupied Housing Units') & (df['value']==occupied)]['year'].iloc[0]\n",
        "\n",
        "print('\\t', 'Year', 'Value', sep='\\t')\n",
        "print('Vacant Housing Units', vacant, vacant, sep='\\t')\n",
        "print('Occupied Housing Units', occupied, occupied, sep='\\t')\n"
      ]
    },
    {
      "cell_type": "markdown",
      "metadata": {
        "id": "CZb0bkpoNpAz"
      },
      "source": [
        "## 4.4"
      ]
    },
    {
      "cell_type": "code",
      "execution_count": null,
      "metadata": {
        "id": "NAJJiz6vNpAz",
        "outputId": "05dd8fae-a6e3-4c53-fb14-1100a2f2b977"
      },
      "outputs": [
        {
          "name": "stdout",
          "output_type": "stream",
          "text": [
            "Harmonic mean :  44398.28543969185\n"
          ]
        }
      ],
      "source": [
        "s = 0\n",
        "n = len(new_df[new_df['title_field']=='Total Housing Units']['value'])\n",
        "for year in range(2008,2015):\n",
        "    s += 1/( new_df[new_df['title_field']=='Total Housing Units']['value'][year])\n",
        "    \n",
        "print(\"Harmonic mean : \", (n/s))"
      ]
    },
    {
      "cell_type": "code",
      "execution_count": null,
      "metadata": {
        "id": "Z3m8Raa2NpA0"
      },
      "outputs": [],
      "source": []
    }
  ],
  "metadata": {
    "colab": {
      "provenance": [],
      "include_colab_link": true
    },
    "kernelspec": {
      "display_name": "Python 3 (ipykernel)",
      "language": "python",
      "name": "python3"
    },
    "language_info": {
      "codemirror_mode": {
        "name": "ipython",
        "version": 3
      },
      "file_extension": ".py",
      "mimetype": "text/x-python",
      "name": "python",
      "nbconvert_exporter": "python",
      "pygments_lexer": "ipython3",
      "version": "3.9.13"
    }
  },
  "nbformat": 4,
  "nbformat_minor": 0
}